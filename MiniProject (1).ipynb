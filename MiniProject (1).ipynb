{
  "nbformat": 4,
  "nbformat_minor": 0,
  "metadata": {
    "colab": {
      "provenance": []
    },
    "kernelspec": {
      "name": "python3",
      "display_name": "Python 3"
    },
    "language_info": {
      "name": "python"
    }
  },
  "cells": [
    {
      "cell_type": "markdown",
      "source": [
        "1.DATA CREATION:Create a suitable arrays to represent students,subjects,and their marks"
      ],
      "metadata": {
        "id": "-3B7CIZwgm8e"
      }
    },
    {
      "cell_type": "code",
      "source": [
        "import numpy as np\n",
        "scl = np.array([[101,102,103,104],[1321,2432,3543,4654],[67,98,87,35]])\n",
        "scl"
      ],
      "metadata": {
        "colab": {
          "base_uri": "https://localhost:8080/"
        },
        "id": "mbCSyo1ng4fr",
        "outputId": "df4d5ad6-5e13-4b2f-86f2-3c4ddc27ca80"
      },
      "execution_count": null,
      "outputs": [
        {
          "output_type": "execute_result",
          "data": {
            "text/plain": [
              "array([[ 101,  102,  103,  104],\n",
              "       [1321, 2432, 3543, 4654],\n",
              "       [  67,   98,   87,   35]])"
            ]
          },
          "metadata": {},
          "execution_count": 12
        }
      ]
    },
    {
      "cell_type": "markdown",
      "source": [
        "2.DATA EXPLORATION:explore the properties of these arrays,such as their dimension,size and structure"
      ],
      "metadata": {
        "id": "FQ_RBHYOhP7n"
      }
    },
    {
      "cell_type": "code",
      "source": [
        "scl.shape\n",
        "scl.ndim\n",
        "scl.size"
      ],
      "metadata": {
        "colab": {
          "base_uri": "https://localhost:8080/"
        },
        "id": "XN5OUEGEhumr",
        "outputId": "5f69f59e-9e9c-43fa-cc06-d208648fc1c9"
      },
      "execution_count": null,
      "outputs": [
        {
          "output_type": "execute_result",
          "data": {
            "text/plain": [
              "12"
            ]
          },
          "metadata": {},
          "execution_count": 13
        }
      ]
    },
    {
      "cell_type": "markdown",
      "source": [
        "3.DATA TRANSFORMATION:perform necessary reshaping and regognising of the data to suit various operations"
      ],
      "metadata": {
        "id": "r0WSW6iqhxD2"
      }
    },
    {
      "cell_type": "code",
      "source": [
        "scl.T"
      ],
      "metadata": {
        "colab": {
          "base_uri": "https://localhost:8080/"
        },
        "id": "rMkqV4FTiSz3",
        "outputId": "abccd9fb-b83e-4887-989e-05f4cb16cdb9"
      },
      "execution_count": null,
      "outputs": [
        {
          "output_type": "execute_result",
          "data": {
            "text/plain": [
              "array([[ 101, 1321,   67],\n",
              "       [ 102, 2432,   98],\n",
              "       [ 103, 3543,   87],\n",
              "       [ 104, 4654,   35]])"
            ]
          },
          "metadata": {},
          "execution_count": 14
        }
      ]
    },
    {
      "cell_type": "markdown",
      "source": [
        "4.DATA COMBINATION:merge or split arrays to stimulate adding new students,nwe subjects,or recognaising the datasets"
      ],
      "metadata": {
        "id": "S1O00x2JjX0t"
      }
    },
    {
      "cell_type": "code",
      "source": [
        "newcol = np.array([[109],[9879],[58]])\n",
        "scl = np.hstack((scl,newcol))\n",
        "scl"
      ],
      "metadata": {
        "colab": {
          "base_uri": "https://localhost:8080/"
        },
        "id": "M4zYj-pMiY5X",
        "outputId": "1d57ad13-5359-4f19-f4e8-cc1e150effa4"
      },
      "execution_count": null,
      "outputs": [
        {
          "output_type": "execute_result",
          "data": {
            "text/plain": [
              "array([[ 101,  102,  103,  104,  109],\n",
              "       [1321, 2432, 3543, 4654, 9879],\n",
              "       [  67,   98,   87,   35,   58]])"
            ]
          },
          "metadata": {},
          "execution_count": 15
        }
      ]
    },
    {
      "cell_type": "markdown",
      "source": [
        "5.DATA MODIFICATION:Apply operations to update marks,remove data,or identify unique information"
      ],
      "metadata": {
        "id": "tPQ8USeBifjS"
      }
    },
    {
      "cell_type": "code",
      "source": [
        "\n",
        "student = scl[0]\n",
        "subject = scl[1]\n",
        "marks = scl[2]\n",
        "\n",
        "marks[3]=89\n",
        "marks[2]=56\n",
        "\n",
        "np.delete(subject,4)\n",
        "\n",
        "subject\n",
        "\n",
        "marks"
      ],
      "metadata": {
        "colab": {
          "base_uri": "https://localhost:8080/"
        },
        "id": "ei6xeZG8mL6E",
        "outputId": "66c8e388-49f5-4260-83e7-011979254d90"
      },
      "execution_count": null,
      "outputs": [
        {
          "output_type": "execute_result",
          "data": {
            "text/plain": [
              "array([67, 99, 56, 89, 58])"
            ]
          },
          "metadata": {},
          "execution_count": 29
        }
      ]
    },
    {
      "cell_type": "code",
      "source": [
        "data = np.array([student,subject,marks])\n",
        "data"
      ],
      "metadata": {
        "colab": {
          "base_uri": "https://localhost:8080/"
        },
        "id": "RkZ-72rXnaB1",
        "outputId": "342c30e9-326c-4ba4-d42f-41fb4e7083e2"
      },
      "execution_count": null,
      "outputs": [
        {
          "output_type": "execute_result",
          "data": {
            "text/plain": [
              "array([[ 101,  102,  103,  104,  109],\n",
              "       [1321, 2432, 3543, 4654, 9879],\n",
              "       [  67,   99,   56,   89,   58]])"
            ]
          },
          "metadata": {},
          "execution_count": 30
        }
      ]
    },
    {
      "cell_type": "markdown",
      "source": [
        "6.DATA TYPE HANDLING:Demonstrate howthe same data can exists in different data types and how changes affect results"
      ],
      "metadata": {
        "id": "3nVldDe0ngft"
      }
    },
    {
      "cell_type": "code",
      "source": [
        "nscl=scl.copy()\n",
        "nscl[0][3]=108\n",
        "nscl\n",
        "'''array([[ 101,  102,  103,  104,  107,  108,  109],\n",
        "       [1321, 2432, 3543, 4654, 8978, 7897, 9879],\n",
        "       [  99,   98,   87,   67,   76,   76,   58]])'''\n",
        "scl\n",
        "'''array([[ 101,  102,  103,  104,  107,  107,  109],\n",
        "       [1321, 2432, 3543, 4654, 8978, 7897, 9879],\n",
        "       [  99,   98,   87,   67,   76,   76,   58]])'''\n",
        "\n",
        "scl"
      ],
      "metadata": {
        "colab": {
          "base_uri": "https://localhost:8080/"
        },
        "id": "PnHkHs5vn5pe",
        "outputId": "d24d03d3-cf5d-465a-ca4e-f400391d9f79"
      },
      "execution_count": null,
      "outputs": [
        {
          "output_type": "execute_result",
          "data": {
            "text/plain": [
              "array([[ 101,  102,  103,  104,  109],\n",
              "       [1321, 2432, 3543, 4654, 9879],\n",
              "       [  67,   99,   56,   89,   58]])"
            ]
          },
          "metadata": {},
          "execution_count": 32
        }
      ]
    },
    {
      "cell_type": "markdown",
      "source": [
        "7.COPY AND VIEW BEHAVIOUR:Show the difference between creating a full copy of array and creating a view of the same data."
      ],
      "metadata": {
        "id": "PRpQ2VpkoDIu"
      }
    },
    {
      "cell_type": "code",
      "source": [
        "vscl = scl.view()\n",
        "vscl[1][4]=8978\n",
        "vscl\n",
        "'''array([[ 101,  102,  103,  104,  107,  107,  109],\n",
        "       [1321, 2432, 3543, 4654, 8978, 7897, 9879],\n",
        "       [  99,   98,   87,   67,   76,   76,   58]])'''\n",
        "scl\n",
        "'''array([[ 101,  102,  103,  104,  107,  107,  109],\n",
        "       [1321, 2432, 3543, 4654, 8978, 7897, 9879],\n",
        "       [  99,   98,   87,   67,   76,   76,   58]])'''\n",
        "scl"
      ],
      "metadata": {
        "colab": {
          "base_uri": "https://localhost:8080/"
        },
        "id": "kateI6TvohCX",
        "outputId": "12d30398-c1f9-4d91-ce83-0572d841ae32"
      },
      "execution_count": null,
      "outputs": [
        {
          "output_type": "execute_result",
          "data": {
            "text/plain": [
              "array([[ 101,  102,  103,  104,  109],\n",
              "       [1321, 2432, 3543, 4654, 8978],\n",
              "       [  67,   99,   56,   89,   58]])"
            ]
          },
          "metadata": {},
          "execution_count": 33
        }
      ]
    }
  ]
}